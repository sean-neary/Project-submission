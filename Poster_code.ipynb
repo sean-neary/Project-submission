{
  "nbformat": 4,
  "nbformat_minor": 0,
  "metadata": {
    "colab": {
      "name": "Poster_code.ipynb",
      "provenance": [],
      "authorship_tag": "ABX9TyPSnzo9OSoFviev9sf/IytJ",
      "include_colab_link": true
    },
    "kernelspec": {
      "name": "python3",
      "display_name": "Python 3"
    },
    "language_info": {
      "name": "python"
    }
  },
  "cells": [
    {
      "cell_type": "markdown",
      "metadata": {
        "id": "view-in-github",
        "colab_type": "text"
      },
      "source": [
        "<a href=\"https://colab.research.google.com/github/sean-neary/Project-submission/blob/main/Poster_code.ipynb\" target=\"_parent\"><img src=\"https://colab.research.google.com/assets/colab-badge.svg\" alt=\"Open In Colab\"/></a>"
      ]
    },
    {
      "cell_type": "code",
      "source": [
        "%matplotlib inline\n",
        "import csv\n",
        "import pandas as pd\n",
        "import numpy as np\n",
        "from sklearn.linear_model import LinearRegression\n",
        "import numpy as np\n",
        "import pandas.testing as tm\n",
        "from sklearn import datasets\n",
        "from sklearn import datasets, linear_model\n",
        "from sklearn.model_selection import train_test_split\n",
        "from sklearn.linear_model import Ridge\n",
        "from sklearn.linear_model import RidgeCV\n",
        "from sklearn.linear_model import Lasso\n",
        "from sklearn.linear_model import LassoCV\n",
        "from sklearn.metrics import mean_squared_error\n",
        "from sklearn.model_selection import GridSearchCV\n",
        "from sklearn.model_selection import RepeatedKFold\n",
        "import statsmodels.api as sm\n",
        "from matplotlib import pyplot as plt\n",
        "import matplotlib.pyplot as plt\n",
        "from numpy import arange\n",
        "import itertools\n",
        "import time\n",
        "import statsmodels.api as sm\n",
        "from sklearn.preprocessing import scale \n",
        "import matplotlib.pyplot as plt\n",
        "import pandas as pd\n",
        "import numpy as np\n",
        "import seaborn as sns\n",
        "from sklearn.model_selection import train_test_split\n",
        "from sklearn.linear_model import LinearRegression, ElasticNet, Lasso, Ridge\n",
        "from sklearn.tree import DecisionTreeRegressor\n",
        "from sklearn.ensemble import RandomForestRegressor, AdaBoostRegressor\n",
        "from sklearn.preprocessing import StandardScaler\n",
        "from sklearn.decomposition import PCA\n",
        "from sklearn.pipeline import Pipeline\n"
      ],
      "metadata": {
        "id": "Dv1lojQCXPqY"
      },
      "execution_count": 37,
      "outputs": []
    },
    {
      "cell_type": "code",
      "execution_count": 38,
      "metadata": {
        "colab": {
          "base_uri": "https://localhost:8080/",
          "height": 400
        },
        "id": "_U8vrd5VWzSu",
        "outputId": "b2d88b3a-950f-4ce6-c92e-629104353afb"
      },
      "outputs": [
        {
          "output_type": "stream",
          "name": "stdout",
          "text": [
            "Number of games:  16719\n"
          ]
        },
        {
          "output_type": "execute_result",
          "data": {
            "text/html": [
              "<div>\n",
              "<style scoped>\n",
              "    .dataframe tbody tr th:only-of-type {\n",
              "        vertical-align: middle;\n",
              "    }\n",
              "\n",
              "    .dataframe tbody tr th {\n",
              "        vertical-align: top;\n",
              "    }\n",
              "\n",
              "    .dataframe thead th {\n",
              "        text-align: right;\n",
              "    }\n",
              "</style>\n",
              "<table border=\"1\" class=\"dataframe\">\n",
              "  <thead>\n",
              "    <tr style=\"text-align: right;\">\n",
              "      <th></th>\n",
              "      <th>Name</th>\n",
              "      <th>Platform</th>\n",
              "      <th>Year_of_Release</th>\n",
              "      <th>Genre</th>\n",
              "      <th>Publisher</th>\n",
              "      <th>NA_Sales</th>\n",
              "      <th>EU_Sales</th>\n",
              "      <th>JP_Sales</th>\n",
              "      <th>Other_Sales</th>\n",
              "      <th>Global_Sales</th>\n",
              "      <th>Critic_Score</th>\n",
              "      <th>Critic_Count</th>\n",
              "      <th>User_Score</th>\n",
              "      <th>User_Count</th>\n",
              "      <th>Developer</th>\n",
              "      <th>Rating</th>\n",
              "    </tr>\n",
              "  </thead>\n",
              "  <tbody>\n",
              "    <tr>\n",
              "      <th>0</th>\n",
              "      <td>Wii Sports</td>\n",
              "      <td>Wii</td>\n",
              "      <td>2006.0</td>\n",
              "      <td>Sports</td>\n",
              "      <td>Nintendo</td>\n",
              "      <td>41.36</td>\n",
              "      <td>28.96</td>\n",
              "      <td>3.77</td>\n",
              "      <td>8.45</td>\n",
              "      <td>82.53</td>\n",
              "      <td>76.0</td>\n",
              "      <td>51.0</td>\n",
              "      <td>8</td>\n",
              "      <td>322.0</td>\n",
              "      <td>Nintendo</td>\n",
              "      <td>E</td>\n",
              "    </tr>\n",
              "    <tr>\n",
              "      <th>2</th>\n",
              "      <td>Mario Kart Wii</td>\n",
              "      <td>Wii</td>\n",
              "      <td>2008.0</td>\n",
              "      <td>Racing</td>\n",
              "      <td>Nintendo</td>\n",
              "      <td>15.68</td>\n",
              "      <td>12.76</td>\n",
              "      <td>3.79</td>\n",
              "      <td>3.29</td>\n",
              "      <td>35.52</td>\n",
              "      <td>82.0</td>\n",
              "      <td>73.0</td>\n",
              "      <td>8.3</td>\n",
              "      <td>709.0</td>\n",
              "      <td>Nintendo</td>\n",
              "      <td>E</td>\n",
              "    </tr>\n",
              "    <tr>\n",
              "      <th>3</th>\n",
              "      <td>Wii Sports Resort</td>\n",
              "      <td>Wii</td>\n",
              "      <td>2009.0</td>\n",
              "      <td>Sports</td>\n",
              "      <td>Nintendo</td>\n",
              "      <td>15.61</td>\n",
              "      <td>10.93</td>\n",
              "      <td>3.28</td>\n",
              "      <td>2.95</td>\n",
              "      <td>32.77</td>\n",
              "      <td>80.0</td>\n",
              "      <td>73.0</td>\n",
              "      <td>8</td>\n",
              "      <td>192.0</td>\n",
              "      <td>Nintendo</td>\n",
              "      <td>E</td>\n",
              "    </tr>\n",
              "    <tr>\n",
              "      <th>6</th>\n",
              "      <td>New Super Mario Bros.</td>\n",
              "      <td>DS</td>\n",
              "      <td>2006.0</td>\n",
              "      <td>Platform</td>\n",
              "      <td>Nintendo</td>\n",
              "      <td>11.28</td>\n",
              "      <td>9.14</td>\n",
              "      <td>6.50</td>\n",
              "      <td>2.88</td>\n",
              "      <td>29.80</td>\n",
              "      <td>89.0</td>\n",
              "      <td>65.0</td>\n",
              "      <td>8.5</td>\n",
              "      <td>431.0</td>\n",
              "      <td>Nintendo</td>\n",
              "      <td>E</td>\n",
              "    </tr>\n",
              "    <tr>\n",
              "      <th>7</th>\n",
              "      <td>Wii Play</td>\n",
              "      <td>Wii</td>\n",
              "      <td>2006.0</td>\n",
              "      <td>Misc</td>\n",
              "      <td>Nintendo</td>\n",
              "      <td>13.96</td>\n",
              "      <td>9.18</td>\n",
              "      <td>2.93</td>\n",
              "      <td>2.84</td>\n",
              "      <td>28.92</td>\n",
              "      <td>58.0</td>\n",
              "      <td>41.0</td>\n",
              "      <td>6.6</td>\n",
              "      <td>129.0</td>\n",
              "      <td>Nintendo</td>\n",
              "      <td>E</td>\n",
              "    </tr>\n",
              "  </tbody>\n",
              "</table>\n",
              "</div>"
            ],
            "text/plain": [
              "                    Name Platform  Year_of_Release  ... User_Count Developer  Rating\n",
              "0             Wii Sports      Wii           2006.0  ...      322.0  Nintendo       E\n",
              "2         Mario Kart Wii      Wii           2008.0  ...      709.0  Nintendo       E\n",
              "3      Wii Sports Resort      Wii           2009.0  ...      192.0  Nintendo       E\n",
              "6  New Super Mario Bros.       DS           2006.0  ...      431.0  Nintendo       E\n",
              "7               Wii Play      Wii           2006.0  ...      129.0  Nintendo       E\n",
              "\n",
              "[5 rows x 16 columns]"
            ]
          },
          "metadata": {},
          "execution_count": 38
        }
      ],
      "source": [
        "df = pd.read_csv(\"Video_Games_Sales_as_at_22_Dec_2016.csv\")\n",
        "df.head()\n",
        "print(\"Number of games: \", len(df))\n",
        "df = df.dropna()\n",
        "df.head()\n"
      ]
    },
    {
      "cell_type": "code",
      "source": [
        "df1 = df.drop(columns=['Name', 'Genre', 'Critic_Count','User_Count','Developer', 'Rating','Publisher','NA_Sales','JP_Sales','Other_Sales'])\n",
        "df1.head()\n",
        "\n"
      ],
      "metadata": {
        "colab": {
          "base_uri": "https://localhost:8080/",
          "height": 206
        },
        "id": "kOKp1qBPW3Fw",
        "outputId": "7560ff68-148c-4e0a-a092-d64dffeb4c3b"
      },
      "execution_count": 39,
      "outputs": [
        {
          "output_type": "execute_result",
          "data": {
            "text/html": [
              "<div>\n",
              "<style scoped>\n",
              "    .dataframe tbody tr th:only-of-type {\n",
              "        vertical-align: middle;\n",
              "    }\n",
              "\n",
              "    .dataframe tbody tr th {\n",
              "        vertical-align: top;\n",
              "    }\n",
              "\n",
              "    .dataframe thead th {\n",
              "        text-align: right;\n",
              "    }\n",
              "</style>\n",
              "<table border=\"1\" class=\"dataframe\">\n",
              "  <thead>\n",
              "    <tr style=\"text-align: right;\">\n",
              "      <th></th>\n",
              "      <th>Platform</th>\n",
              "      <th>Year_of_Release</th>\n",
              "      <th>EU_Sales</th>\n",
              "      <th>Global_Sales</th>\n",
              "      <th>Critic_Score</th>\n",
              "      <th>User_Score</th>\n",
              "    </tr>\n",
              "  </thead>\n",
              "  <tbody>\n",
              "    <tr>\n",
              "      <th>0</th>\n",
              "      <td>Wii</td>\n",
              "      <td>2006.0</td>\n",
              "      <td>28.96</td>\n",
              "      <td>82.53</td>\n",
              "      <td>76.0</td>\n",
              "      <td>8</td>\n",
              "    </tr>\n",
              "    <tr>\n",
              "      <th>2</th>\n",
              "      <td>Wii</td>\n",
              "      <td>2008.0</td>\n",
              "      <td>12.76</td>\n",
              "      <td>35.52</td>\n",
              "      <td>82.0</td>\n",
              "      <td>8.3</td>\n",
              "    </tr>\n",
              "    <tr>\n",
              "      <th>3</th>\n",
              "      <td>Wii</td>\n",
              "      <td>2009.0</td>\n",
              "      <td>10.93</td>\n",
              "      <td>32.77</td>\n",
              "      <td>80.0</td>\n",
              "      <td>8</td>\n",
              "    </tr>\n",
              "    <tr>\n",
              "      <th>6</th>\n",
              "      <td>DS</td>\n",
              "      <td>2006.0</td>\n",
              "      <td>9.14</td>\n",
              "      <td>29.80</td>\n",
              "      <td>89.0</td>\n",
              "      <td>8.5</td>\n",
              "    </tr>\n",
              "    <tr>\n",
              "      <th>7</th>\n",
              "      <td>Wii</td>\n",
              "      <td>2006.0</td>\n",
              "      <td>9.18</td>\n",
              "      <td>28.92</td>\n",
              "      <td>58.0</td>\n",
              "      <td>6.6</td>\n",
              "    </tr>\n",
              "  </tbody>\n",
              "</table>\n",
              "</div>"
            ],
            "text/plain": [
              "  Platform  Year_of_Release  EU_Sales  Global_Sales  Critic_Score User_Score\n",
              "0      Wii           2006.0     28.96         82.53          76.0          8\n",
              "2      Wii           2008.0     12.76         35.52          82.0        8.3\n",
              "3      Wii           2009.0     10.93         32.77          80.0          8\n",
              "6       DS           2006.0      9.14         29.80          89.0        8.5\n",
              "7      Wii           2006.0      9.18         28.92          58.0        6.6"
            ]
          },
          "metadata": {},
          "execution_count": 39
        }
      ]
    },
    {
      "cell_type": "code",
      "source": [
        "\n",
        "df = pd.get_dummies(df1)\n",
        "df.head()"
      ],
      "metadata": {
        "colab": {
          "base_uri": "https://localhost:8080/",
          "height": 256
        },
        "id": "1GTuvJoXW3IH",
        "outputId": "a37b8273-89d9-4737-f05d-231d22bdce0c"
      },
      "execution_count": 40,
      "outputs": [
        {
          "output_type": "execute_result",
          "data": {
            "text/html": [
              "<div>\n",
              "<style scoped>\n",
              "    .dataframe tbody tr th:only-of-type {\n",
              "        vertical-align: middle;\n",
              "    }\n",
              "\n",
              "    .dataframe tbody tr th {\n",
              "        vertical-align: top;\n",
              "    }\n",
              "\n",
              "    .dataframe thead th {\n",
              "        text-align: right;\n",
              "    }\n",
              "</style>\n",
              "<table border=\"1\" class=\"dataframe\">\n",
              "  <thead>\n",
              "    <tr style=\"text-align: right;\">\n",
              "      <th></th>\n",
              "      <th>Year_of_Release</th>\n",
              "      <th>EU_Sales</th>\n",
              "      <th>Global_Sales</th>\n",
              "      <th>Critic_Score</th>\n",
              "      <th>Platform_3DS</th>\n",
              "      <th>Platform_DC</th>\n",
              "      <th>Platform_DS</th>\n",
              "      <th>Platform_GBA</th>\n",
              "      <th>Platform_GC</th>\n",
              "      <th>Platform_PC</th>\n",
              "      <th>Platform_PS</th>\n",
              "      <th>Platform_PS2</th>\n",
              "      <th>Platform_PS3</th>\n",
              "      <th>Platform_PS4</th>\n",
              "      <th>Platform_PSP</th>\n",
              "      <th>Platform_PSV</th>\n",
              "      <th>Platform_Wii</th>\n",
              "      <th>Platform_WiiU</th>\n",
              "      <th>Platform_X360</th>\n",
              "      <th>Platform_XB</th>\n",
              "      <th>Platform_XOne</th>\n",
              "      <th>User_Score_0.5</th>\n",
              "      <th>User_Score_0.6</th>\n",
              "      <th>User_Score_0.7</th>\n",
              "      <th>User_Score_0.9</th>\n",
              "      <th>User_Score_1</th>\n",
              "      <th>User_Score_1.2</th>\n",
              "      <th>User_Score_1.3</th>\n",
              "      <th>User_Score_1.4</th>\n",
              "      <th>User_Score_1.5</th>\n",
              "      <th>User_Score_1.7</th>\n",
              "      <th>User_Score_1.8</th>\n",
              "      <th>User_Score_1.9</th>\n",
              "      <th>User_Score_2</th>\n",
              "      <th>User_Score_2.1</th>\n",
              "      <th>User_Score_2.2</th>\n",
              "      <th>User_Score_2.3</th>\n",
              "      <th>User_Score_2.4</th>\n",
              "      <th>User_Score_2.5</th>\n",
              "      <th>User_Score_2.6</th>\n",
              "      <th>...</th>\n",
              "      <th>User_Score_5.7</th>\n",
              "      <th>User_Score_5.8</th>\n",
              "      <th>User_Score_5.9</th>\n",
              "      <th>User_Score_6</th>\n",
              "      <th>User_Score_6.1</th>\n",
              "      <th>User_Score_6.2</th>\n",
              "      <th>User_Score_6.3</th>\n",
              "      <th>User_Score_6.4</th>\n",
              "      <th>User_Score_6.5</th>\n",
              "      <th>User_Score_6.6</th>\n",
              "      <th>User_Score_6.7</th>\n",
              "      <th>User_Score_6.8</th>\n",
              "      <th>User_Score_6.9</th>\n",
              "      <th>User_Score_7</th>\n",
              "      <th>User_Score_7.1</th>\n",
              "      <th>User_Score_7.2</th>\n",
              "      <th>User_Score_7.3</th>\n",
              "      <th>User_Score_7.4</th>\n",
              "      <th>User_Score_7.5</th>\n",
              "      <th>User_Score_7.6</th>\n",
              "      <th>User_Score_7.7</th>\n",
              "      <th>User_Score_7.8</th>\n",
              "      <th>User_Score_7.9</th>\n",
              "      <th>User_Score_8</th>\n",
              "      <th>User_Score_8.1</th>\n",
              "      <th>User_Score_8.2</th>\n",
              "      <th>User_Score_8.3</th>\n",
              "      <th>User_Score_8.4</th>\n",
              "      <th>User_Score_8.5</th>\n",
              "      <th>User_Score_8.6</th>\n",
              "      <th>User_Score_8.7</th>\n",
              "      <th>User_Score_8.8</th>\n",
              "      <th>User_Score_8.9</th>\n",
              "      <th>User_Score_9</th>\n",
              "      <th>User_Score_9.1</th>\n",
              "      <th>User_Score_9.2</th>\n",
              "      <th>User_Score_9.3</th>\n",
              "      <th>User_Score_9.4</th>\n",
              "      <th>User_Score_9.5</th>\n",
              "      <th>User_Score_9.6</th>\n",
              "    </tr>\n",
              "  </thead>\n",
              "  <tbody>\n",
              "    <tr>\n",
              "      <th>0</th>\n",
              "      <td>2006.0</td>\n",
              "      <td>28.96</td>\n",
              "      <td>82.53</td>\n",
              "      <td>76.0</td>\n",
              "      <td>0</td>\n",
              "      <td>0</td>\n",
              "      <td>0</td>\n",
              "      <td>0</td>\n",
              "      <td>0</td>\n",
              "      <td>0</td>\n",
              "      <td>0</td>\n",
              "      <td>0</td>\n",
              "      <td>0</td>\n",
              "      <td>0</td>\n",
              "      <td>0</td>\n",
              "      <td>0</td>\n",
              "      <td>1</td>\n",
              "      <td>0</td>\n",
              "      <td>0</td>\n",
              "      <td>0</td>\n",
              "      <td>0</td>\n",
              "      <td>0</td>\n",
              "      <td>0</td>\n",
              "      <td>0</td>\n",
              "      <td>0</td>\n",
              "      <td>0</td>\n",
              "      <td>0</td>\n",
              "      <td>0</td>\n",
              "      <td>0</td>\n",
              "      <td>0</td>\n",
              "      <td>0</td>\n",
              "      <td>0</td>\n",
              "      <td>0</td>\n",
              "      <td>0</td>\n",
              "      <td>0</td>\n",
              "      <td>0</td>\n",
              "      <td>0</td>\n",
              "      <td>0</td>\n",
              "      <td>0</td>\n",
              "      <td>0</td>\n",
              "      <td>...</td>\n",
              "      <td>0</td>\n",
              "      <td>0</td>\n",
              "      <td>0</td>\n",
              "      <td>0</td>\n",
              "      <td>0</td>\n",
              "      <td>0</td>\n",
              "      <td>0</td>\n",
              "      <td>0</td>\n",
              "      <td>0</td>\n",
              "      <td>0</td>\n",
              "      <td>0</td>\n",
              "      <td>0</td>\n",
              "      <td>0</td>\n",
              "      <td>0</td>\n",
              "      <td>0</td>\n",
              "      <td>0</td>\n",
              "      <td>0</td>\n",
              "      <td>0</td>\n",
              "      <td>0</td>\n",
              "      <td>0</td>\n",
              "      <td>0</td>\n",
              "      <td>0</td>\n",
              "      <td>0</td>\n",
              "      <td>1</td>\n",
              "      <td>0</td>\n",
              "      <td>0</td>\n",
              "      <td>0</td>\n",
              "      <td>0</td>\n",
              "      <td>0</td>\n",
              "      <td>0</td>\n",
              "      <td>0</td>\n",
              "      <td>0</td>\n",
              "      <td>0</td>\n",
              "      <td>0</td>\n",
              "      <td>0</td>\n",
              "      <td>0</td>\n",
              "      <td>0</td>\n",
              "      <td>0</td>\n",
              "      <td>0</td>\n",
              "      <td>0</td>\n",
              "    </tr>\n",
              "    <tr>\n",
              "      <th>2</th>\n",
              "      <td>2008.0</td>\n",
              "      <td>12.76</td>\n",
              "      <td>35.52</td>\n",
              "      <td>82.0</td>\n",
              "      <td>0</td>\n",
              "      <td>0</td>\n",
              "      <td>0</td>\n",
              "      <td>0</td>\n",
              "      <td>0</td>\n",
              "      <td>0</td>\n",
              "      <td>0</td>\n",
              "      <td>0</td>\n",
              "      <td>0</td>\n",
              "      <td>0</td>\n",
              "      <td>0</td>\n",
              "      <td>0</td>\n",
              "      <td>1</td>\n",
              "      <td>0</td>\n",
              "      <td>0</td>\n",
              "      <td>0</td>\n",
              "      <td>0</td>\n",
              "      <td>0</td>\n",
              "      <td>0</td>\n",
              "      <td>0</td>\n",
              "      <td>0</td>\n",
              "      <td>0</td>\n",
              "      <td>0</td>\n",
              "      <td>0</td>\n",
              "      <td>0</td>\n",
              "      <td>0</td>\n",
              "      <td>0</td>\n",
              "      <td>0</td>\n",
              "      <td>0</td>\n",
              "      <td>0</td>\n",
              "      <td>0</td>\n",
              "      <td>0</td>\n",
              "      <td>0</td>\n",
              "      <td>0</td>\n",
              "      <td>0</td>\n",
              "      <td>0</td>\n",
              "      <td>...</td>\n",
              "      <td>0</td>\n",
              "      <td>0</td>\n",
              "      <td>0</td>\n",
              "      <td>0</td>\n",
              "      <td>0</td>\n",
              "      <td>0</td>\n",
              "      <td>0</td>\n",
              "      <td>0</td>\n",
              "      <td>0</td>\n",
              "      <td>0</td>\n",
              "      <td>0</td>\n",
              "      <td>0</td>\n",
              "      <td>0</td>\n",
              "      <td>0</td>\n",
              "      <td>0</td>\n",
              "      <td>0</td>\n",
              "      <td>0</td>\n",
              "      <td>0</td>\n",
              "      <td>0</td>\n",
              "      <td>0</td>\n",
              "      <td>0</td>\n",
              "      <td>0</td>\n",
              "      <td>0</td>\n",
              "      <td>0</td>\n",
              "      <td>0</td>\n",
              "      <td>0</td>\n",
              "      <td>1</td>\n",
              "      <td>0</td>\n",
              "      <td>0</td>\n",
              "      <td>0</td>\n",
              "      <td>0</td>\n",
              "      <td>0</td>\n",
              "      <td>0</td>\n",
              "      <td>0</td>\n",
              "      <td>0</td>\n",
              "      <td>0</td>\n",
              "      <td>0</td>\n",
              "      <td>0</td>\n",
              "      <td>0</td>\n",
              "      <td>0</td>\n",
              "    </tr>\n",
              "    <tr>\n",
              "      <th>3</th>\n",
              "      <td>2009.0</td>\n",
              "      <td>10.93</td>\n",
              "      <td>32.77</td>\n",
              "      <td>80.0</td>\n",
              "      <td>0</td>\n",
              "      <td>0</td>\n",
              "      <td>0</td>\n",
              "      <td>0</td>\n",
              "      <td>0</td>\n",
              "      <td>0</td>\n",
              "      <td>0</td>\n",
              "      <td>0</td>\n",
              "      <td>0</td>\n",
              "      <td>0</td>\n",
              "      <td>0</td>\n",
              "      <td>0</td>\n",
              "      <td>1</td>\n",
              "      <td>0</td>\n",
              "      <td>0</td>\n",
              "      <td>0</td>\n",
              "      <td>0</td>\n",
              "      <td>0</td>\n",
              "      <td>0</td>\n",
              "      <td>0</td>\n",
              "      <td>0</td>\n",
              "      <td>0</td>\n",
              "      <td>0</td>\n",
              "      <td>0</td>\n",
              "      <td>0</td>\n",
              "      <td>0</td>\n",
              "      <td>0</td>\n",
              "      <td>0</td>\n",
              "      <td>0</td>\n",
              "      <td>0</td>\n",
              "      <td>0</td>\n",
              "      <td>0</td>\n",
              "      <td>0</td>\n",
              "      <td>0</td>\n",
              "      <td>0</td>\n",
              "      <td>0</td>\n",
              "      <td>...</td>\n",
              "      <td>0</td>\n",
              "      <td>0</td>\n",
              "      <td>0</td>\n",
              "      <td>0</td>\n",
              "      <td>0</td>\n",
              "      <td>0</td>\n",
              "      <td>0</td>\n",
              "      <td>0</td>\n",
              "      <td>0</td>\n",
              "      <td>0</td>\n",
              "      <td>0</td>\n",
              "      <td>0</td>\n",
              "      <td>0</td>\n",
              "      <td>0</td>\n",
              "      <td>0</td>\n",
              "      <td>0</td>\n",
              "      <td>0</td>\n",
              "      <td>0</td>\n",
              "      <td>0</td>\n",
              "      <td>0</td>\n",
              "      <td>0</td>\n",
              "      <td>0</td>\n",
              "      <td>0</td>\n",
              "      <td>1</td>\n",
              "      <td>0</td>\n",
              "      <td>0</td>\n",
              "      <td>0</td>\n",
              "      <td>0</td>\n",
              "      <td>0</td>\n",
              "      <td>0</td>\n",
              "      <td>0</td>\n",
              "      <td>0</td>\n",
              "      <td>0</td>\n",
              "      <td>0</td>\n",
              "      <td>0</td>\n",
              "      <td>0</td>\n",
              "      <td>0</td>\n",
              "      <td>0</td>\n",
              "      <td>0</td>\n",
              "      <td>0</td>\n",
              "    </tr>\n",
              "    <tr>\n",
              "      <th>6</th>\n",
              "      <td>2006.0</td>\n",
              "      <td>9.14</td>\n",
              "      <td>29.80</td>\n",
              "      <td>89.0</td>\n",
              "      <td>0</td>\n",
              "      <td>0</td>\n",
              "      <td>1</td>\n",
              "      <td>0</td>\n",
              "      <td>0</td>\n",
              "      <td>0</td>\n",
              "      <td>0</td>\n",
              "      <td>0</td>\n",
              "      <td>0</td>\n",
              "      <td>0</td>\n",
              "      <td>0</td>\n",
              "      <td>0</td>\n",
              "      <td>0</td>\n",
              "      <td>0</td>\n",
              "      <td>0</td>\n",
              "      <td>0</td>\n",
              "      <td>0</td>\n",
              "      <td>0</td>\n",
              "      <td>0</td>\n",
              "      <td>0</td>\n",
              "      <td>0</td>\n",
              "      <td>0</td>\n",
              "      <td>0</td>\n",
              "      <td>0</td>\n",
              "      <td>0</td>\n",
              "      <td>0</td>\n",
              "      <td>0</td>\n",
              "      <td>0</td>\n",
              "      <td>0</td>\n",
              "      <td>0</td>\n",
              "      <td>0</td>\n",
              "      <td>0</td>\n",
              "      <td>0</td>\n",
              "      <td>0</td>\n",
              "      <td>0</td>\n",
              "      <td>0</td>\n",
              "      <td>...</td>\n",
              "      <td>0</td>\n",
              "      <td>0</td>\n",
              "      <td>0</td>\n",
              "      <td>0</td>\n",
              "      <td>0</td>\n",
              "      <td>0</td>\n",
              "      <td>0</td>\n",
              "      <td>0</td>\n",
              "      <td>0</td>\n",
              "      <td>0</td>\n",
              "      <td>0</td>\n",
              "      <td>0</td>\n",
              "      <td>0</td>\n",
              "      <td>0</td>\n",
              "      <td>0</td>\n",
              "      <td>0</td>\n",
              "      <td>0</td>\n",
              "      <td>0</td>\n",
              "      <td>0</td>\n",
              "      <td>0</td>\n",
              "      <td>0</td>\n",
              "      <td>0</td>\n",
              "      <td>0</td>\n",
              "      <td>0</td>\n",
              "      <td>0</td>\n",
              "      <td>0</td>\n",
              "      <td>0</td>\n",
              "      <td>0</td>\n",
              "      <td>1</td>\n",
              "      <td>0</td>\n",
              "      <td>0</td>\n",
              "      <td>0</td>\n",
              "      <td>0</td>\n",
              "      <td>0</td>\n",
              "      <td>0</td>\n",
              "      <td>0</td>\n",
              "      <td>0</td>\n",
              "      <td>0</td>\n",
              "      <td>0</td>\n",
              "      <td>0</td>\n",
              "    </tr>\n",
              "    <tr>\n",
              "      <th>7</th>\n",
              "      <td>2006.0</td>\n",
              "      <td>9.18</td>\n",
              "      <td>28.92</td>\n",
              "      <td>58.0</td>\n",
              "      <td>0</td>\n",
              "      <td>0</td>\n",
              "      <td>0</td>\n",
              "      <td>0</td>\n",
              "      <td>0</td>\n",
              "      <td>0</td>\n",
              "      <td>0</td>\n",
              "      <td>0</td>\n",
              "      <td>0</td>\n",
              "      <td>0</td>\n",
              "      <td>0</td>\n",
              "      <td>0</td>\n",
              "      <td>1</td>\n",
              "      <td>0</td>\n",
              "      <td>0</td>\n",
              "      <td>0</td>\n",
              "      <td>0</td>\n",
              "      <td>0</td>\n",
              "      <td>0</td>\n",
              "      <td>0</td>\n",
              "      <td>0</td>\n",
              "      <td>0</td>\n",
              "      <td>0</td>\n",
              "      <td>0</td>\n",
              "      <td>0</td>\n",
              "      <td>0</td>\n",
              "      <td>0</td>\n",
              "      <td>0</td>\n",
              "      <td>0</td>\n",
              "      <td>0</td>\n",
              "      <td>0</td>\n",
              "      <td>0</td>\n",
              "      <td>0</td>\n",
              "      <td>0</td>\n",
              "      <td>0</td>\n",
              "      <td>0</td>\n",
              "      <td>...</td>\n",
              "      <td>0</td>\n",
              "      <td>0</td>\n",
              "      <td>0</td>\n",
              "      <td>0</td>\n",
              "      <td>0</td>\n",
              "      <td>0</td>\n",
              "      <td>0</td>\n",
              "      <td>0</td>\n",
              "      <td>0</td>\n",
              "      <td>1</td>\n",
              "      <td>0</td>\n",
              "      <td>0</td>\n",
              "      <td>0</td>\n",
              "      <td>0</td>\n",
              "      <td>0</td>\n",
              "      <td>0</td>\n",
              "      <td>0</td>\n",
              "      <td>0</td>\n",
              "      <td>0</td>\n",
              "      <td>0</td>\n",
              "      <td>0</td>\n",
              "      <td>0</td>\n",
              "      <td>0</td>\n",
              "      <td>0</td>\n",
              "      <td>0</td>\n",
              "      <td>0</td>\n",
              "      <td>0</td>\n",
              "      <td>0</td>\n",
              "      <td>0</td>\n",
              "      <td>0</td>\n",
              "      <td>0</td>\n",
              "      <td>0</td>\n",
              "      <td>0</td>\n",
              "      <td>0</td>\n",
              "      <td>0</td>\n",
              "      <td>0</td>\n",
              "      <td>0</td>\n",
              "      <td>0</td>\n",
              "      <td>0</td>\n",
              "      <td>0</td>\n",
              "    </tr>\n",
              "  </tbody>\n",
              "</table>\n",
              "<p>5 rows × 110 columns</p>\n",
              "</div>"
            ],
            "text/plain": [
              "   Year_of_Release  EU_Sales  ...  User_Score_9.5  User_Score_9.6\n",
              "0           2006.0     28.96  ...               0               0\n",
              "2           2008.0     12.76  ...               0               0\n",
              "3           2009.0     10.93  ...               0               0\n",
              "6           2006.0      9.14  ...               0               0\n",
              "7           2006.0      9.18  ...               0               0\n",
              "\n",
              "[5 rows x 110 columns]"
            ]
          },
          "metadata": {},
          "execution_count": 40
        }
      ]
    },
    {
      "cell_type": "code",
      "source": [
        "y = df.Global_Sales\n",
        "\n",
        "X = df.drop(['Global_Sales'], axis=1).astype('float64')"
      ],
      "metadata": {
        "id": "c0jGZDnvW3Kr"
      },
      "execution_count": 41,
      "outputs": []
    },
    {
      "cell_type": "code",
      "source": [
        "X_train, X_test, y_train, y_test = train_test_split(X, y, test_size=0.2, random_state=8)"
      ],
      "metadata": {
        "id": "tVXVLm0PXpgL"
      },
      "execution_count": 42,
      "outputs": []
    },
    {
      "cell_type": "code",
      "source": [
        "print(X_train.shape, X_test.shape, y_train.shape, y_test.shape)\n",
        "\n",
        "lin_reg = LinearRegression()\n",
        "lin_reg.fit(X_train, y_train)"
      ],
      "metadata": {
        "colab": {
          "base_uri": "https://localhost:8080/"
        },
        "id": "c7Lvu4d2YFke",
        "outputId": "4fd9b2c6-c6b1-4298-974d-f77c221bef12"
      },
      "execution_count": 43,
      "outputs": [
        {
          "output_type": "stream",
          "name": "stdout",
          "text": [
            "(5460, 109) (1365, 109) (5460,) (1365,)\n"
          ]
        },
        {
          "output_type": "execute_result",
          "data": {
            "text/plain": [
              "LinearRegression()"
            ]
          },
          "metadata": {},
          "execution_count": 43
        }
      ]
    },
    {
      "cell_type": "code",
      "source": [
        "lm = linear_model.LinearRegression()\n",
        "model = lm.fit(X_train, y_train)\n",
        "predictions = lm.predict(X_test)\n"
      ],
      "metadata": {
        "id": "YlWXqH3vZzQs"
      },
      "execution_count": 44,
      "outputs": []
    },
    {
      "cell_type": "code",
      "source": [
        "print(predictions[0:5])\n",
        "print(y_test[0:5])"
      ],
      "metadata": {
        "colab": {
          "base_uri": "https://localhost:8080/"
        },
        "id": "o19wd87YZ4Hv",
        "outputId": "a3f0d40e-b5be-457c-f76c-37a0066a4209"
      },
      "execution_count": 45,
      "outputs": [
        {
          "output_type": "stream",
          "name": "stdout",
          "text": [
            "[ 2.98159409  0.03063774 -0.3003521   0.10619164  0.63598251]\n",
            "272      4.21\n",
            "11819    0.07\n",
            "15723    0.02\n",
            "5040     0.38\n",
            "3591     0.56\n",
            "Name: Global_Sales, dtype: float64\n"
          ]
        }
      ]
    },
    {
      "cell_type": "code",
      "source": [
        "plt.scatter(y_test, predictions)\n",
        "plt.xlabel(\"True Values\")\n",
        "plt.ylabel(\"Predictions\")"
      ],
      "metadata": {
        "colab": {
          "base_uri": "https://localhost:8080/",
          "height": 296
        },
        "id": "kGj5RsNCZ49w",
        "outputId": "c8364637-e8d3-49fe-f893-5c73f17ff973"
      },
      "execution_count": 46,
      "outputs": [
        {
          "output_type": "execute_result",
          "data": {
            "text/plain": [
              "Text(0, 0.5, 'Predictions')"
            ]
          },
          "metadata": {},
          "execution_count": 46
        },
        {
          "output_type": "display_data",
          "data": {
            "image/png": "[encoded data removed]",
            "text/plain": [
              "<Figure size 432x288 with 1 Axes>"
            ]
          },
          "metadata": {
            "needs_background": "light"
          }
        }
      ]
    },
    {
      "cell_type": "code",
      "source": [
        "print (\"Test Score:\", model.score(X_test, y_test))\n",
        "print (\"Training Score:\", model.score(X_train, y_train))"
      ],
      "metadata": {
        "colab": {
          "base_uri": "https://localhost:8080/"
        },
        "id": "rduPv7xcaCUu",
        "outputId": "7bc69b06-774c-4613-8b57-8c45b7503a9b"
      },
      "execution_count": 60,
      "outputs": [
        {
          "output_type": "stream",
          "name": "stdout",
          "text": [
            "Test Score: 0.8628868336881247\n",
            "Training Score: 0.9723178139770222\n"
          ]
        }
      ]
    },
    {
      "cell_type": "code",
      "source": [
        "#decision tree regression\n",
        "DTree_regressor = DecisionTreeRegressor()\n",
        "model = DTree_regressor.fit(X_train, y_train)\n",
        "predictions = DTree_regressor.predict(X_test)\n",
        "\n",
        "\n"
      ],
      "metadata": {
        "colab": {
          "base_uri": "https://localhost:8080/"
        },
        "id": "sDl7k0vbSSYx",
        "outputId": "3fcb8f9c-89d9-482a-8f28-775a72c1b717"
      },
      "execution_count": 72,
      "outputs": [
        {
          "output_type": "stream",
          "name": "stdout",
          "text": [
            "Training set score:  0.9999518854301354\n",
            "Test set score:  0.7682131460282227\n"
          ]
        }
      ]
    },
    {
      "cell_type": "code",
      "source": [
        "print(predictions[0:5])\n",
        "print(y_test[0:5])"
      ],
      "metadata": {
        "id": "zqnZNlZ0YHig",
        "outputId": "ddba46c0-a5aa-43d4-b91e-613ec486707a",
        "colab": {
          "base_uri": "https://localhost:8080/"
        }
      },
      "execution_count": 73,
      "outputs": [
        {
          "output_type": "stream",
          "name": "stdout",
          "text": [
            "[3.48 0.07 0.04 0.38 0.56]\n",
            "272      4.21\n",
            "11819    0.07\n",
            "15723    0.02\n",
            "5040     0.38\n",
            "3591     0.56\n",
            "Name: Global_Sales, dtype: float64\n"
          ]
        }
      ]
    },
    {
      "cell_type": "code",
      "source": [
        "plt.scatter(y_test, predictions)\n",
        "plt.xlabel(\"True Values\")\n",
        "plt.ylabel(\"Predictions\")"
      ],
      "metadata": {
        "id": "-8svriXeYLX_",
        "outputId": "40d7d77b-3617-413a-f3fa-dcf76f8b128c",
        "colab": {
          "base_uri": "https://localhost:8080/",
          "height": 296
        }
      },
      "execution_count": 74,
      "outputs": [
        {
          "output_type": "execute_result",
          "data": {
            "text/plain": [
              "Text(0, 0.5, 'Predictions')"
            ]
          },
          "metadata": {},
          "execution_count": 74
        },
        {
          "output_type": "display_data",
          "data": {
            "image/png": "[encoded data removed]",
            "text/plain": [
              "<Figure size 432x288 with 1 Axes>"
            ]
          },
          "metadata": {
            "needs_background": "light"
          }
        }
      ]
    },
    {
      "cell_type": "code",
      "source": [
        "\n",
        "print(\"Training set score: \", model.score(X_train, y_train))\n",
        "print(\"Test set score: \", model.score(X_test, y_test))"
      ],
      "metadata": {
        "id": "nioZO9Y9YUe_",
        "outputId": "615775f0-e092-4632-a19e-94568f60349d",
        "colab": {
          "base_uri": "https://localhost:8080/"
        }
      },
      "execution_count": 75,
      "outputs": [
        {
          "output_type": "stream",
          "name": "stdout",
          "text": [
            "Training set score:  0.9999518854301354\n",
            "Test set score:  0.7682131460282227\n"
          ]
        }
      ]
    },
    {
      "cell_type": "code",
      "source": [
        "#random forest regression\n",
        "\n",
        "RF = RandomForestRegressor()\n",
        "model = RF.fit(X_train, y_train)\n",
        "predictions = RF.predict(X_test)\n",
        "\n",
        "plt.scatter(y_test, predictions)\n",
        "plt.xlabel(\"True Values\")\n",
        "plt.ylabel(\"Predictions\")\n",
        "\n",
        "\n"
      ],
      "metadata": {
        "colab": {
          "base_uri": "https://localhost:8080/",
          "height": 296
        },
        "id": "t249ZkAYSSga",
        "outputId": "f34f2cd3-8ffc-423f-9e5d-3910414229a6"
      },
      "execution_count": 76,
      "outputs": [
        {
          "output_type": "execute_result",
          "data": {
            "text/plain": [
              "Text(0, 0.5, 'Predictions')"
            ]
          },
          "metadata": {},
          "execution_count": 76
        },
        {
          "output_type": "display_data",
          "data": {
            "image/png": "[encoded data removed]",
            "text/plain": [
              "<Figure size 432x288 with 1 Axes>"
            ]
          },
          "metadata": {
            "needs_background": "light"
          }
        }
      ]
    },
    {
      "cell_type": "code",
      "source": [
        "print(\"Training set score: \", model.score(X_train, y_train))\n",
        "print(\"Test set score: \", model.score(X_test, y_test))"
      ],
      "metadata": {
        "id": "RbEq_5vRYhPC",
        "outputId": "fc0a97b6-35f5-4033-d6b1-3ead56b7e927",
        "colab": {
          "base_uri": "https://localhost:8080/"
        }
      },
      "execution_count": 77,
      "outputs": [
        {
          "output_type": "stream",
          "name": "stdout",
          "text": [
            "Training set score:  0.9714962439382397\n",
            "Test set score:  0.8658604425787446\n"
          ]
        }
      ]
    },
    {
      "cell_type": "code",
      "source": [
        "#elastic net regression\n",
        "\n",
        "elastic = ElasticNet()\n",
        "elastic.fit(X_train, y_train)\n",
        "predictions = elastic.predict(X_test)\n",
        "\n",
        "plt.scatter(y_test, predictions)\n",
        "plt.xlabel(\"True Values\")\n",
        "plt.ylabel(\"Predictions\")\n",
        "\n"
      ],
      "metadata": {
        "colab": {
          "base_uri": "https://localhost:8080/",
          "height": 296
        },
        "id": "YmI0sGk4SSiv",
        "outputId": "98c7aab7-cba6-42cd-8fb4-d1894a9e1891"
      },
      "execution_count": 79,
      "outputs": [
        {
          "output_type": "execute_result",
          "data": {
            "text/plain": [
              "Text(0, 0.5, 'Predictions')"
            ]
          },
          "metadata": {},
          "execution_count": 79
        },
        {
          "output_type": "display_data",
          "data": {
            "image/png": "[encoded data removed]",
            "text/plain": [
              "<Figure size 432x288 with 1 Axes>"
            ]
          },
          "metadata": {
            "needs_background": "light"
          }
        }
      ]
    },
    {
      "cell_type": "code",
      "source": [
        "print(\"Training set score: \", elastic.score(X_train, y_train))\n",
        "print(\"Test set score: \", elastic.score(X_test, y_test))"
      ],
      "metadata": {
        "id": "UraPAKB7Yv-Z",
        "outputId": "2ec63f22-2c09-49ef-c156-d4d451c0014b",
        "colab": {
          "base_uri": "https://localhost:8080/"
        }
      },
      "execution_count": 80,
      "outputs": [
        {
          "output_type": "stream",
          "name": "stdout",
          "text": [
            "Training set score:  0.4686150188444005\n",
            "Test set score:  0.5098990583802949\n"
          ]
        }
      ]
    },
    {
      "cell_type": "code",
      "source": [
        "#ridge regression\n",
        "\n",
        "ridge_reg = Ridge()\n",
        "ridge_reg.fit(X_train, y_train)\n",
        "predictions = ridge_reg.predict(X_test)\n",
        "\n",
        "plt.scatter(y_test, predictions)\n",
        "plt.xlabel(\"True Values\")\n",
        "plt.ylabel(\"Predictions\")\n"
      ],
      "metadata": {
        "colab": {
          "base_uri": "https://localhost:8080/",
          "height": 296
        },
        "id": "Gd1UEPhESSlc",
        "outputId": "d14e5906-ffc7-4bfc-db52-3978320e1bb3"
      },
      "execution_count": 81,
      "outputs": [
        {
          "output_type": "execute_result",
          "data": {
            "text/plain": [
              "Text(0, 0.5, 'Predictions')"
            ]
          },
          "metadata": {},
          "execution_count": 81
        },
        {
          "output_type": "display_data",
          "data": {
            "image/png": "[encoded data removed]",
            "text/plain": [
              "<Figure size 432x288 with 1 Axes>"
            ]
          },
          "metadata": {
            "needs_background": "light"
          }
        }
      ]
    },
    {
      "cell_type": "code",
      "source": [
        "print(\"Training set score: \", ridge_reg.score(X_train, y_train))\n",
        "print(\"Test set score: \", ridge_reg.score(X_test, y_test))"
      ],
      "metadata": {
        "id": "Pm4ykDdwY9Z7",
        "outputId": "ec40774d-f55c-41a1-fed9-50faa69ec027",
        "colab": {
          "base_uri": "https://localhost:8080/"
        }
      },
      "execution_count": 82,
      "outputs": [
        {
          "output_type": "stream",
          "name": "stdout",
          "text": [
            "Training set score:  0.8921826862295454\n",
            "Test set score:  0.8856513458586968\n"
          ]
        }
      ]
    },
    {
      "cell_type": "code",
      "source": [
        "#lasso regression\n",
        "\n",
        "lasso_reg = Lasso()\n",
        "lasso_reg.fit(X_train, y_train)\n",
        "predictions = lasso_reg.predict(X_test)\n",
        "\n",
        "plt.scatter(y_test, predictions)\n",
        "plt.xlabel(\"True Values\")\n",
        "plt.ylabel(\"Predictions\")\n"
      ],
      "metadata": {
        "colab": {
          "base_uri": "https://localhost:8080/",
          "height": 296
        },
        "id": "XpoGc_36SSn9",
        "outputId": "0ef31e02-90a4-4a1d-828e-9577bbf55c4a"
      },
      "execution_count": 83,
      "outputs": [
        {
          "output_type": "execute_result",
          "data": {
            "text/plain": [
              "Text(0, 0.5, 'Predictions')"
            ]
          },
          "metadata": {},
          "execution_count": 83
        },
        {
          "output_type": "display_data",
          "data": {
            "image/png": "[encoded data removed]",
            "text/plain": [
              "<Figure size 432x288 with 1 Axes>"
            ]
          },
          "metadata": {
            "needs_background": "light"
          }
        }
      ]
    },
    {
      "cell_type": "code",
      "source": [
        "print(\"Training set score: \",lasso_reg.score(X_train, y_train))\n",
        "print(\"Test set score: \",lasso_reg.score(X_test, y_test))"
      ],
      "metadata": {
        "id": "ksgK4mTBZClb",
        "outputId": "3db9c6a9-97e4-40a6-e2c8-1d7a4aa178a6",
        "colab": {
          "base_uri": "https://localhost:8080/"
        }
      },
      "execution_count": 84,
      "outputs": [
        {
          "output_type": "stream",
          "name": "stdout",
          "text": [
            "Training set score:  0.36942080339937844\n",
            "Test set score:  0.40751310110962025\n"
          ]
        }
      ]
    }
  ]
}